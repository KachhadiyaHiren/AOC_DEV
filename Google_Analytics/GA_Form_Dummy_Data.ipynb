{
 "cells": [
  {
   "cell_type": "code",
   "execution_count": 0,
   "metadata": {
    "application/vnd.databricks.v1+cell": {
     "cellMetadata": {
      "byteLimit": 2048000,
      "implicitDf": true,
      "rowLimit": 10000
     },
     "inputWidgets": {},
     "nuid": "874b5cfd-9142-4cf6-aae8-6a6e6eff9e7c",
     "showTitle": false,
     "tableResultSettingsMap": {
      "0": {
       "dataGridStateBlob": "{\"version\":1,\"tableState\":{\"columnPinning\":{\"left\":[\"#row_number#\"],\"right\":[]},\"columnSizing\":{\"event_params\":920},\"columnVisibility\":{}},\"settings\":{\"columns\":{}},\"syncTimestamp\":1761280452822}",
       "filterBlob": null,
       "queryPlanFiltersBlob": null,
       "tableResultIndex": 0
      }
     },
     "title": ""
    }
   },
   "outputs": [],
   "source": [
    "%sql\n",
    "SELECT *\n",
    "FROM `dev_aoc_catalog`.`bronze_google_analytics`.`events_raw`\n",
    "WHERE EXISTS (\n",
    "    SELECT 1\n",
    "    FROM LATERAL VIEW EXPLODE(`event_params`) AS ep\n",
    "    \n",
    ")"
   ]
  },
  {
   "cell_type": "code",
   "execution_count": 0,
   "metadata": {
    "application/vnd.databricks.v1+cell": {
     "cellMetadata": {
      "byteLimit": 2048000,
      "implicitDf": true,
      "rowLimit": 10000
     },
     "inputWidgets": {},
     "nuid": "0c436291-df3d-415d-be33-8767b3e73bbc",
     "showTitle": false,
     "tableResultSettingsMap": {},
     "title": ""
    }
   },
   "outputs": [],
   "source": [
    "from pyspark.sql import SparkSession\n",
    "from pyspark.sql.types import StructType, StructField, StringType, LongType, TimestampType, DateType\n",
    "from pyspark.sql import functions as F\n",
    "from datetime import datetime, timedelta\n",
    "import random\n",
    "\n",
    "# Initialize Spark Session\n",
    "spark = SparkSession.builder.appName(\"SilverFormDummyData\").getOrCreate()\n",
    "\n",
    "# Extract real user_pseudo_id and ga_session_id from bronze table\n",
    "print(\"=== Extracting real user IDs and session IDs from bronze ===\")\n",
    "bronze_table = \"dev_aoc_catalog.bronze_google_analytics.events_raw\"\n",
    "\n",
    "real_users_sessions = spark.sql(f\"\"\"\n",
    "    SELECT DISTINCT\n",
    "        user_pseudo_id,\n",
    "        element_at(filter(event_params, x -> x.key = 'ga_session_id'), 1).value.int_value as ga_session_id\n",
    "    FROM {bronze_table}\n",
    "    WHERE user_pseudo_id IS NOT NULL\n",
    "        AND size(filter(event_params, x -> x.key = 'ga_session_id')) > 0\n",
    "        AND element_at(filter(event_params, x -> x.key = 'ga_session_id'), 1).value.int_value IS NOT NULL\n",
    "    LIMIT 50\n",
    "\"\"\").collect()\n",
    "\n",
    "print(f\"✓ Found {len(real_users_sessions)} real user/session combinations\")\n",
    "\n",
    "if len(real_users_sessions) == 0:\n",
    "    print(\"⚠ No real user/session data found. Using synthetic data instead.\")\n",
    "    real_users_sessions = [\n",
    "        type('obj', (object,), {\n",
    "            'user_pseudo_id': f\"user_{random.randint(1000, 9999)}.{random.randint(1000000000, 9999999999)}\",\n",
    "            'ga_session_id': random.randint(1000000000, 9999999999)\n",
    "        })() for _ in range(50)\n",
    "    ]\n",
    "else:\n",
    "    print(\"\\n=== Sample of real user/session data ===\")\n",
    "    for i, row in enumerate(real_users_sessions[:5]):\n",
    "        print(f\"  {i+1}. user_pseudo_id: {row.user_pseudo_id}, ga_session_id: {row.ga_session_id}\")\n",
    "\n",
    "# Define schema for silver table\n",
    "schema = StructType([\n",
    "    StructField(\"form_fill_sk\", LongType(), False),\n",
    "    StructField(\"form_date\", DateType(), True),\n",
    "    StructField(\"user_id\", StringType(), True),\n",
    "    StructField(\"session_id\", StringType(), True),\n",
    "    StructField(\"form_submit_time\", TimestampType(), True),\n",
    "    StructField(\"event_name\", StringType(), True),\n",
    "    StructField(\"form_id\", StringType(), True),\n",
    "    StructField(\"form_name\", StringType(), True),\n",
    "    StructField(\"form_page_url\", StringType(), True),\n",
    "    StructField(\"form_type\", StringType(), True),\n",
    "    StructField(\"insert_dttm\", TimestampType(), True),\n",
    "    StructField(\"ingestion_id\", StringType(), True)\n",
    "])\n",
    "\n",
    "# Sample data values\n",
    "form_ids = [\"contact_form_001\", \"newsletter_signup_002\", \"quote_request_003\", \n",
    "            \"support_ticket_004\", \"registration_form_005\"]\n",
    "form_names = [\"Contact Us\", \"Newsletter Signup\", \"Get a Quote\", \n",
    "              \"Support Request\", \"Account Registration\"]\n",
    "page_urls = [\n",
    "    \"https://example.com/contact\",\n",
    "    \"https://example.com/\",\n",
    "    \"https://example.com/services\",\n",
    "    \"https://example.com/support\",\n",
    "    \"https://example.com/register\"\n",
    "]\n",
    "form_types = [\"contact\", \"subscription\", \"quote\", \"support\", \"registration\"]\n",
    "\n",
    "# Generate dummy data using real user/session IDs\n",
    "print(\"\\n=== Generating dummy form submissions ===\")\n",
    "dummy_data = []\n",
    "start_date = datetime(2025, 10, 1)\n",
    "current_time = datetime.now()\n",
    "\n",
    "for i in range(100):  # Generate 100 form submissions\n",
    "    # Random date within last 24 days\n",
    "    form_submit_datetime = start_date + timedelta(\n",
    "        days=random.randint(0, 23),\n",
    "        hours=random.randint(0, 23),\n",
    "        minutes=random.randint(0, 59),\n",
    "        seconds=random.randint(0, 59)\n",
    "    )\n",
    "    \n",
    "    # Select random form\n",
    "    idx = random.randint(0, 4)\n",
    "    \n",
    "    # Use real user and session from bronze\n",
    "    user_session = random.choice(real_users_sessions)\n",
    "    user_id = user_session.user_pseudo_id\n",
    "    session_id = str(user_session.ga_session_id)\n",
    "    \n",
    "    # Generate surrogate key\n",
    "    form_fill_sk = random.randint(1000000000000000, 9999999999999999)\n",
    "    \n",
    "    # Generate UUID-like ingestion_id\n",
    "    ingestion_id = f\"{random.randint(10000000, 99999999)}-{random.randint(1000, 9999)}-{random.randint(1000, 9999)}-{random.randint(1000, 9999)}-{random.randint(100000000000, 999999999999)}\"\n",
    "    \n",
    "    dummy_data.append({\n",
    "        \"form_fill_sk\": form_fill_sk,\n",
    "        \"form_date\": form_submit_datetime.date(),\n",
    "        \"user_id\": user_id,\n",
    "        \"session_id\": session_id,\n",
    "        \"form_submit_time\": form_submit_datetime,\n",
    "        \"event_name\": \"form_submit\",\n",
    "        \"form_id\": form_ids[idx],\n",
    "        \"form_name\": form_names[idx],\n",
    "        \"form_page_url\": page_urls[idx],\n",
    "        \"form_type\": form_types[idx],\n",
    "        \"insert_dttm\": current_time,\n",
    "        \"ingestion_id\": ingestion_id\n",
    "    })\n",
    "\n",
    "# Create DataFrame\n",
    "df = spark.createDataFrame(dummy_data, schema=schema)\n",
    "\n",
    "# Display sample data\n",
    "print(\"\\n=== Sample of dummy form fill data ===\")\n",
    "df.show(10, truncate=False)\n",
    "\n",
    "print(\"\\n=== Summary Statistics ===\")\n",
    "df.groupBy(\"form_type\", \"form_name\").count().orderBy(\"form_type\").show()\n",
    "\n",
    "print(\"\\n=== Unique Users and Sessions ===\")\n",
    "print(f\"Unique users: {df.select('user_id').distinct().count()}\")\n",
    "print(f\"Unique sessions: {df.select('session_id').distinct().count()}\")\n",
    "\n",
    "# Write to silver table\n",
    "silver_table_name = \"dev_aoc_catalog.silver.ga_silver_form_fill\"\n",
    "\n",
    "# Drop existing non-Delta table if it exists\n",
    "spark.sql(f\"DROP TABLE IF EXISTS {silver_table_name}\")\n",
    "print(f\"\\n✓ Dropped existing table: {silver_table_name}\")\n",
    "\n",
    "# Create new Delta table\n",
    "df.write \\\n",
    "    .format(\"delta\") \\\n",
    "    .mode(\"overwrite\") \\\n",
    "    .option(\"overwriteSchema\", \"true\") \\\n",
    "    .saveAsTable(silver_table_name)\n",
    "\n",
    "print(f\"✓ Created {df.count()} dummy form_submit events\")\n",
    "print(f\"✓ Data written to: {silver_table_name}\")\n",
    "\n",
    "# Verification query\n",
    "print(\"\\n=== Recent Form Submissions ===\")\n",
    "spark.sql(f\"\"\"\n",
    "    SELECT \n",
    "        form_date,\n",
    "        form_name,\n",
    "        form_type,\n",
    "        user_id,\n",
    "        session_id,\n",
    "        form_submit_time\n",
    "    FROM {silver_table_name}\n",
    "    ORDER BY form_submit_time DESC\n",
    "    LIMIT 10\n",
    "\"\"\").show(truncate=False)"
   ]
  },
  {
   "cell_type": "code",
   "execution_count": 0,
   "metadata": {
    "application/vnd.databricks.v1+cell": {
     "cellMetadata": {
      "byteLimit": 2048000,
      "rowLimit": 10000
     },
     "inputWidgets": {},
     "nuid": "818f4752-3bef-46d5-8690-92d2be0b1dd2",
     "showTitle": false,
     "tableResultSettingsMap": {},
     "title": ""
    }
   },
   "outputs": [],
   "source": [
    "\n",
    "form_fills_df = spark.table(f\"dev_aoc_catalog.silver.ga_silver_form_fill\")\n",
    "display(form_fills_df.limit(5))\n",
    "\n",
    "# Check if users dimension has data\n",
    "users_df = spark.table(\"dev_aoc_catalog.gold.ga_dim_users\")\n",
    "display(users_df.limit(5))"
   ]
  },
  {
   "cell_type": "code",
   "execution_count": 0,
   "metadata": {
    "application/vnd.databricks.v1+cell": {
     "cellMetadata": {
      "byteLimit": 2048000,
      "rowLimit": 10000
     },
     "inputWidgets": {},
     "nuid": "3a0c552d-001b-4a02-a203-abe10c61a299",
     "showTitle": false,
     "tableResultSettingsMap": {
      "0": {
       "dataGridStateBlob": "{\"version\":1,\"tableState\":{\"columnPinning\":{\"left\":[\"#row_number#\"],\"right\":[]},\"columnSizing\":{},\"columnVisibility\":{}},\"settings\":{\"columns\":{\"form_page_url\":{\"format\":{\"preset\":\"string-preset-url\"}}}},\"syncTimestamp\":1761292683037}",
       "filterBlob": null,
       "queryPlanFiltersBlob": null,
       "tableResultIndex": 0
      }
     },
     "title": ""
    }
   },
   "outputs": [],
   "source": []
  },
  {
   "cell_type": "code",
   "execution_count": 0,
   "metadata": {
    "application/vnd.databricks.v1+cell": {
     "cellMetadata": {
      "byteLimit": 2048000,
      "implicitDf": true,
      "rowLimit": 10000
     },
     "inputWidgets": {},
     "nuid": "3fd26b2d-fcae-4267-b120-278bb843f6b9",
     "showTitle": false,
     "tableResultSettingsMap": {},
     "title": ""
    }
   },
   "outputs": [],
   "source": [
    "%sql\n",
    "DESCRIBE FORMATTED dev_aoc_catalog.gold.ga_fct_submissions;"
   ]
  },
  {
   "cell_type": "code",
   "execution_count": 0,
   "metadata": {
    "application/vnd.databricks.v1+cell": {
     "cellMetadata": {
      "byteLimit": 2048000,
      "implicitDf": true,
      "rowLimit": 10000
     },
     "inputWidgets": {},
     "nuid": "948d6a15-63be-4006-ba7e-993e3f9320a1",
     "showTitle": false,
     "tableResultSettingsMap": {},
     "title": ""
    }
   },
   "outputs": [],
   "source": [
    "%sql\n",
    "CREATE OR REPLACE TABLE dev_aoc_catalog.gold.ga_fct_submissions_dedup AS\n",
    "SELECT *\n",
    "FROM (\n",
    "  SELECT *,\n",
    "         ROW_NUMBER() OVER (PARTITION BY user_sk ORDER BY user_sk) AS rn\n",
    "  FROM dev_aoc_catalog.gold.ga_fct_submissions\n",
    ")\n",
    "WHERE rn = 1;\n",
    "\n",
    "DROP MATERIALIZED VIEW IF EXISTS dev_aoc_catalog.gold.ga_fct_submissions;\n",
    "\n",
    "CREATE MATERIALIZED VIEW dev_aoc_catalog.gold.ga_fct_submissions AS\n",
    "SELECT * FROM dev_aoc_catalog.gold.ga_fct_submissions_dedup;\n",
    "\n",
    "DROP TABLE IF EXISTS dev_aoc_catalog.gold.ga_fct_submissions_dedup;\n"
   ]
  }
 ],
 "metadata": {
  "application/vnd.databricks.v1+notebook": {
   "computePreferences": null,
   "dashboards": [],
   "environmentMetadata": {
    "base_environment": "",
    "environment_version": "4"
   },
   "inputWidgetPreferences": null,
   "language": "python",
   "notebookMetadata": {
    "mostRecentlyExecutedCommandWithImplicitDF": {
     "commandId": 5329875789677616,
     "dataframes": [
      "_sqldf"
     ]
    },
    "pythonIndentUnit": 4
   },
   "notebookName": "GA_Form_Dummy_Data",
   "widgets": {}
  },
  "language_info": {
   "name": "python"
  }
 },
 "nbformat": 4,
 "nbformat_minor": 0
}
